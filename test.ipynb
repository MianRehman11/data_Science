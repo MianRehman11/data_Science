{
 "cells": [
  {
   "cell_type": "code",
   "execution_count": null,
   "id": "dc144e36-624b-4444-ae49-d4df3381485b",
   "metadata": {},
   "outputs": [],
   "source": []
  },
  {
   "cell_type": "code",
   "execution_count": 70,
   "id": "08bbd46b-9c03-4b51-bdf5-9222d1e5afb5",
   "metadata": {},
   "outputs": [
    {
     "name": "stdout",
     "output_type": "stream",
     "text": [
      "     0\n",
      "    111\n",
      "   22222\n",
      "  3333333\n",
      " 444444444\n"
     ]
    }
   ],
   "source": [
    "num = 5 \n",
    "i = 0\n",
    "while i < num :\n",
    "    j = i\n",
    "    while j < num :\n",
    "        print(\" \",end = \"\")\n",
    "        j += 1\n",
    "    j = 0\n",
    "    while j <= i:\n",
    "        print(i,end = \"\")\n",
    "        j += 1\n",
    "    j = 0\n",
    "    while j < i :\n",
    "        print(i,end=\"\")\n",
    "        j += 1\n",
    "    print()\n",
    "    i += 1"
   ]
  },
  {
   "cell_type": "code",
   "execution_count": 4,
   "id": "b05bfb4f-4b36-43e3-b7c6-59c023f3896a",
   "metadata": {},
   "outputs": [
    {
     "name": "stdout",
     "output_type": "stream",
     "text": [
      "  *******\n",
      "   *****\n",
      "    ***\n",
      "     *\n"
     ]
    }
   ],
   "source": [
    "num = 5\n",
    "i =0\n",
    "while i < num - 1:\n",
    "    j = 0\n",
    "    while j < i + 2:\n",
    "        print(\" \",end = \"\")\n",
    "        j += 1\n",
    "    k =0\n",
    "    while k < num - i - 1 :\n",
    "        print(\"*\",end = \"\")\n",
    "        k += 1\n",
    "    l = 0\n",
    "    while l < num - i -2 :\n",
    "        print(\"*\",end = \"\")\n",
    "        l += 1\n",
    "    print()\n",
    "    i += 1\n",
    "        "
   ]
  },
  {
   "cell_type": "code",
   "execution_count": 5,
   "id": "bc4bf260-f317-4fd1-b9f5-9611a0f238eb",
   "metadata": {},
   "outputs": [
    {
     "name": "stdout",
     "output_type": "stream",
     "text": [
      "     *\n",
      "    ***\n",
      "   *****\n",
      "  *******\n",
      " *********\n",
      "  *******\n",
      "   *****\n",
      "    ***\n",
      "     *\n"
     ]
    }
   ],
   "source": [
    "num = 5 \n",
    "i = 0\n",
    "while i < num :\n",
    "    j = i\n",
    "    while j < num :\n",
    "        print(\" \",end = \"\")\n",
    "        j += 1\n",
    "    j = 0\n",
    "    while j <= i:\n",
    "        print(\"*\",end = \"\")\n",
    "        j += 1\n",
    "    j = 0\n",
    "    while j < i :\n",
    "        print(\"*\",end=\"\")\n",
    "        j += 1\n",
    "    print()\n",
    "    i += 1\n",
    "\n",
    "num = 5\n",
    "i =0\n",
    "while i < num - 1:\n",
    "    j = 0\n",
    "    while j < i + 2:\n",
    "        print(\" \",end = \"\")\n",
    "        j += 1\n",
    "    k =0\n",
    "    while k < num - i - 1 :\n",
    "        print(\"*\",end = \"\")\n",
    "        k += 1\n",
    "    l = 0\n",
    "    while l < num - i -2 :\n",
    "        print(\"*\",end = \"\")\n",
    "        l += 1\n",
    "    print()\n",
    "    i += 1\n",
    "        "
   ]
  },
  {
   "cell_type": "code",
   "execution_count": 19,
   "id": "0b271007-772b-49cf-abc6-f93431823f96",
   "metadata": {},
   "outputs": [
    {
     "name": "stdin",
     "output_type": "stream",
     "text": [
      "enter your num 32\n"
     ]
    },
    {
     "name": "stdout",
     "output_type": "stream",
     "text": [
      "32  number  is even number\n"
     ]
    }
   ],
   "source": [
    "num = int(input(\"enter your num\"))\n",
    "if(num % 2) == 0:\n",
    "    print(num,' number  is even number')\n",
    "else:\n",
    "    print(num,\"number  is odd number\")"
   ]
  },
  {
   "cell_type": "code",
   "execution_count": 71,
   "id": "d38b50f7-a73b-4f80-9f9c-19ef5788a311",
   "metadata": {},
   "outputs": [
    {
     "name": "stdin",
     "output_type": "stream",
     "text": [
      "enter your start num 1\n",
      "enter your  end num 10\n"
     ]
    },
    {
     "name": "stdout",
     "output_type": "stream",
     "text": [
      "3\n",
      "5\n",
      "5\n",
      "5\n",
      "7\n",
      "7\n",
      "7\n",
      "7\n",
      "7\n",
      "9\n"
     ]
    }
   ],
   "source": [
    "start = int(input(\"enter your start num\"))\n",
    "end = int(input(\"enter your  end num\"))\n",
    "for i in range(start,end+1):\n",
    "    if i > 1 :\n",
    "        for j in range(2,i+1):\n",
    "            if i%j == 0:\n",
    "                break\n",
    "            else:\n",
    "                print(i)"
   ]
  },
  {
   "cell_type": "code",
   "execution_count": 66,
   "id": "5d55e20f-fa21-41e0-8b22-e7fabb42d490",
   "metadata": {},
   "outputs": [
    {
     "name": "stdin",
     "output_type": "stream",
     "text": [
      "Enter your number:  4\n"
     ]
    },
    {
     "name": "stdout",
     "output_type": "stream",
     "text": [
      "4 is not prime\n"
     ]
    }
   ],
   "source": [
    "num = int(input(\"Enter your number: \"))\n",
    "if num <= 1:\n",
    "    print(num, 'is not prime')\n",
    "else:\n",
    "    for i in range(2, num):\n",
    "        if num % i == 0:\n",
    "            print(num, 'is not prime')\n",
    "            break\n",
    "    else:\n",
    "        print(num, 'is prime')"
   ]
  },
  {
   "cell_type": "code",
   "execution_count": null,
   "id": "f66d0b32-772a-43e1-9c46-7f0e1c57bcc2",
   "metadata": {},
   "outputs": [],
   "source": []
  }
 ],
 "metadata": {
  "kernelspec": {
   "display_name": "Python 3 (ipykernel)",
   "language": "python",
   "name": "python3"
  },
  "language_info": {
   "codemirror_mode": {
    "name": "ipython",
    "version": 3
   },
   "file_extension": ".py",
   "mimetype": "text/x-python",
   "name": "python",
   "nbconvert_exporter": "python",
   "pygments_lexer": "ipython3",
   "version": "3.12.6"
  },
  "widgets": {
   "application/vnd.jupyter.widget-state+json": {
    "state": {},
    "version_major": 2,
    "version_minor": 0
   }
  }
 },
 "nbformat": 4,
 "nbformat_minor": 5
}
