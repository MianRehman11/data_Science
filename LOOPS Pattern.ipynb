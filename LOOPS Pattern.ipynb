{
 "cells": [
  {
   "cell_type": "markdown",
   "id": "9dbf85e1-3f1e-4d0f-95ad-df7d76c600e1",
   "metadata": {},
   "source": [
    "### while loop"
   ]
  },
  {
   "cell_type": "code",
   "execution_count": 1,
   "id": "fb1c8eb4-7af3-4848-8754-57c8e459cad4",
   "metadata": {},
   "outputs": [
    {
     "name": "stdout",
     "output_type": "stream",
     "text": [
      "*****\n",
      "*****\n",
      "*****\n",
      "*****\n",
      "*****\n"
     ]
    }
   ],
   "source": [
    "i = 1\n",
    "while i <= 5:\n",
    "    j = 1\n",
    "    while j <= 5:\n",
    "        print(\"*\",end = \"\")\n",
    "        j += 1\n",
    "    print()\n",
    "    i += 1"
   ]
  },
  {
   "cell_type": "code",
   "execution_count": 2,
   "id": "cf1346f1-9e82-4160-8968-8540585d6ebb",
   "metadata": {},
   "outputs": [
    {
     "name": "stdout",
     "output_type": "stream",
     "text": [
      "\n",
      "*\n",
      "**\n",
      "***\n",
      "****\n"
     ]
    }
   ],
   "source": [
    "num = 5\n",
    "mid = 5\n",
    "i =1\n",
    "while i < 6:\n",
    "    j = 1\n",
    "    while j < i:\n",
    "        print(\"*\",end = \"\")\n",
    "        j += 1\n",
    "    print()\n",
    "    i += 1"
   ]
  },
  {
   "cell_type": "code",
   "execution_count": 3,
   "id": "75fb6b80-090b-4364-a860-46f8aff7f991",
   "metadata": {},
   "outputs": [
    {
     "name": "stdout",
     "output_type": "stream",
     "text": [
      "****\n",
      "***\n",
      "**\n",
      "*\n"
     ]
    }
   ],
   "source": [
    "num = 5\n",
    "mid = 5\n",
    "i =1\n",
    "while i < num:\n",
    "    j = 1\n",
    "    while j < mid:\n",
    "        print(\"*\",end = \"\")\n",
    "        j += 1\n",
    "    print()\n",
    "    i += 1\n",
    "    mid -= 1\n",
    "    "
   ]
  },
  {
   "cell_type": "code",
   "execution_count": 4,
   "id": "4b112ee8-3fee-41e2-8b95-e7b45034d7f3",
   "metadata": {},
   "outputs": [
    {
     "name": "stdout",
     "output_type": "stream",
     "text": [
      "    *\n",
      "   **\n",
      "  ***\n",
      " ****\n",
      "*****\n"
     ]
    }
   ],
   "source": [
    "num = 5\n",
    "i = 1\n",
    "while i <= num:\n",
    "    j = 0\n",
    "    while j < num-i:\n",
    "        print(\" \",end = \"\")\n",
    "        j += 1\n",
    "    j = 0\n",
    "    while j < i:\n",
    "        print(\"*\",end = \"\")\n",
    "        j += 1\n",
    "    print()\n",
    "    i += 1\n",
    "    \n",
    "\n",
    "\n",
    "   "
   ]
  },
  {
   "cell_type": "code",
   "execution_count": 5,
   "id": "815937b1-1043-42b6-b20f-413131452579",
   "metadata": {},
   "outputs": [
    {
     "name": "stdout",
     "output_type": "stream",
     "text": [
      " ****\n",
      "  ***\n",
      "   **\n",
      "    *\n",
      "     \n"
     ]
    }
   ],
   "source": [
    "num = 5\n",
    "i = 1\n",
    "while i <= num:\n",
    "    j = 0\n",
    "    while j < i:\n",
    "        print(\" \",end = \"\")\n",
    "        j += 1\n",
    "    j = 0\n",
    "    while j < num-i:\n",
    "        print(\"*\",end = \"\")\n",
    "        j += 1\n",
    "    print()\n",
    "    i += 1\n",
    "    "
   ]
  },
  {
   "cell_type": "code",
   "execution_count": 6,
   "id": "716d962d-0ce5-42e2-9e91-472c99a972c1",
   "metadata": {},
   "outputs": [
    {
     "name": "stdout",
     "output_type": "stream",
     "text": [
      "    *\n",
      "   ***\n",
      "  *****\n",
      " *******\n",
      "*********\n"
     ]
    }
   ],
   "source": [
    "num = 5\n",
    "i = 0 \n",
    "while i < num:\n",
    "    j = 0\n",
    "    while j < num - i -1:\n",
    "        print(\" \",end = \"\")\n",
    "        j += 1\n",
    "    j = 0\n",
    "    while j < 2*i+1:\n",
    "        print(\"*\",end = \"\")\n",
    "        j += 1\n",
    "    print()\n",
    "    i += 1"
   ]
  },
  {
   "cell_type": "code",
   "execution_count": 1,
   "id": "a83927d0-a151-4002-829e-e191c20d5670",
   "metadata": {},
   "outputs": [
    {
     "name": "stdout",
     "output_type": "stream",
     "text": [
      "    **\n",
      "   ****\n",
      "  ******\n",
      " ********\n",
      "**********\n"
     ]
    }
   ],
   "source": [
    "num = 5\n",
    "i = 0 \n",
    "while i < num:\n",
    "    j = 0\n",
    "    while j < num - i -1:\n",
    "        print(\" \",end = \"\")\n",
    "        j += 1\n",
    "    j = 0\n",
    "    while j < 2*i+2:\n",
    "        print(\"*\",end = \"\")\n",
    "        j += 1\n",
    "    print()\n",
    "    i += 1"
   ]
  },
  {
   "cell_type": "code",
   "execution_count": 4,
   "id": "6f01bed1-2611-438a-933b-e6d62d74a462",
   "metadata": {},
   "outputs": [
    {
     "name": "stdout",
     "output_type": "stream",
     "text": [
      "     *\n",
      "    ***\n",
      "   *****\n",
      "  *******\n",
      " *********\n",
      "  *******\n",
      "   *****\n",
      "    ***\n",
      "     *\n"
     ]
    }
   ],
   "source": [
    "num = 5\n",
    "\n",
    "# Top half of the diamond\n",
    "i = 0\n",
    "while i < num:\n",
    "    j = i\n",
    "    while j < num:\n",
    "        print(\" \", end=\"\")\n",
    "        j += 1\n",
    "    j = 0\n",
    "    while j < i + 1:\n",
    "        print(\"*\", end=\"\")\n",
    "        j += 1\n",
    "    j = 0\n",
    "    while j < i:\n",
    "        print(\"*\", end=\"\")\n",
    "        j += 1\n",
    "    print()\n",
    "    i += 1\n",
    "\n",
    "# Bottom half of the diamond\n",
    "i = 0\n",
    "while i < num - 1:\n",
    "    j = 0\n",
    "    while j < i + 2:\n",
    "        print(\" \", end=\"\")\n",
    "        j += 1\n",
    "    j = 0\n",
    "    while j < num - i - 1:\n",
    "        print(\"*\", end=\"\")\n",
    "        j += 1\n",
    "    j = 0\n",
    "    while j < num - i - 2:\n",
    "        print(\"*\", end=\"\")\n",
    "        j += 1\n",
    "    print()\n",
    "    i += 1"
   ]
  },
  {
   "cell_type": "markdown",
   "id": "60759107-caf7-4e21-82b2-f07de7197998",
   "metadata": {},
   "source": [
    "### for loop"
   ]
  },
  {
   "cell_type": "code",
   "execution_count": 8,
   "id": "39948b05-0751-4f1a-af3d-3def14faf8a3",
   "metadata": {},
   "outputs": [
    {
     "name": "stdout",
     "output_type": "stream",
     "text": [
      "*****\n",
      "*****\n",
      "*****\n",
      "*****\n",
      "*****\n"
     ]
    }
   ],
   "source": [
    "num = 5\n",
    "for i in range(5):\n",
    "    for j in range(num):\n",
    "        print(\"*\",end = \"\")\n",
    "    print()\n",
    "    "
   ]
  },
  {
   "cell_type": "code",
   "execution_count": 12,
   "id": "e7862d87-0f85-42ce-bfec-80a55f1efc7e",
   "metadata": {},
   "outputs": [
    {
     "name": "stdout",
     "output_type": "stream",
     "text": [
      "\n",
      "*\n",
      "**\n",
      "***\n",
      "****\n",
      "*****\n"
     ]
    }
   ],
   "source": [
    "num = 5\n",
    "for i in range(num+1):\n",
    "    for j in range(i):\n",
    "        print(\"*\",end = \"\")\n",
    "    print()"
   ]
  },
  {
   "cell_type": "code",
   "execution_count": 14,
   "id": "172b0b63-cd1b-483e-9e3e-c7c17f3c792b",
   "metadata": {},
   "outputs": [
    {
     "name": "stdout",
     "output_type": "stream",
     "text": [
      "*****\n",
      "****\n",
      "***\n",
      "**\n",
      "*\n"
     ]
    }
   ],
   "source": [
    "num = 5\n",
    "for i in range(num,0,-1):\n",
    "    for j in range(i):\n",
    "        print(\"*\",end = \"\")\n",
    "    print()\n",
    "        "
   ]
  },
  {
   "cell_type": "code",
   "execution_count": 1,
   "id": "a414de4f-3b0b-432f-944c-ed0d2667964f",
   "metadata": {},
   "outputs": [
    {
     "name": "stdout",
     "output_type": "stream",
     "text": [
      "     *\n",
      "    **\n",
      "   ***\n",
      "  ****\n",
      " *****\n",
      "******\n"
     ]
    }
   ],
   "source": [
    "num = 6 \n",
    "for i in range(num):\n",
    "    for j in range(num-i-1):\n",
    "        print(\"\",end = \" \")\n",
    "    for j in range(i+1):\n",
    "        print(\"*\",end = \"\")\n",
    "    print()"
   ]
  },
  {
   "cell_type": "code",
   "execution_count": 19,
   "id": "2255b9e3-94b7-4bcc-9b75-cc7f9c938446",
   "metadata": {},
   "outputs": [
    {
     "name": "stdout",
     "output_type": "stream",
     "text": [
      "     \n",
      "    \n",
      "   *\n",
      "  **\n",
      " ***\n",
      "****\n"
     ]
    }
   ],
   "source": [
    "num = 6 \n",
    "for i in range(num):\n",
    "    for j in range(num-i-1):\n",
    "        print(\"\",end = \" \")\n",
    "    for j in range(i+1):\n",
    "        print(\"*\",end = \"\")\n",
    "    print()"
   ]
  },
  {
   "cell_type": "code",
   "execution_count": 20,
   "id": "697a3cd6-462a-4674-a85f-ed4ec4fc6159",
   "metadata": {},
   "outputs": [
    {
     "name": "stdout",
     "output_type": "stream",
     "text": [
      " ****\n",
      "  ***\n",
      "   **\n",
      "    *\n",
      "     \n"
     ]
    }
   ],
   "source": [
    "num = 5\n",
    "\n",
    "for i in range(1, num + 1):\n",
    "    for j in range(i):\n",
    "        print(\" \", end=\"\")\n",
    "    for j in range(num - i):\n",
    "        print(\"*\", end=\"\")\n",
    "    print()"
   ]
  },
  {
   "cell_type": "code",
   "execution_count": 40,
   "id": "d2ee4049-0805-4c55-ad0b-58809edc8d2c",
   "metadata": {},
   "outputs": [
    {
     "name": "stdout",
     "output_type": "stream",
     "text": [
      "    **\n",
      "   ****\n",
      "  ******\n",
      " ********\n",
      "**********\n"
     ]
    }
   ],
   "source": [
    "num = 5 \n",
    "for i in range (num):\n",
    "    for j in range(num-i-1):\n",
    "        print(\"\",end = \" \")\n",
    "    for j in range(2*i + 2):\n",
    "        print(\"*\",end=\"\")\n",
    "    print()"
   ]
  },
  {
   "cell_type": "code",
   "execution_count": 41,
   "id": "6fb290ab-992f-4802-a7da-5fedb3e8960d",
   "metadata": {},
   "outputs": [
    {
     "name": "stdout",
     "output_type": "stream",
     "text": [
      "    *\n",
      "   ***\n",
      "  *****\n",
      " *******\n",
      "*********\n"
     ]
    }
   ],
   "source": [
    "num = 5 \n",
    "for i in range (num):\n",
    "    for j in range(num-i-1):\n",
    "        print(\"\",end = \" \")\n",
    "    for j in range(2*i + 1):\n",
    "        print(\"*\",end=\"\")\n",
    "    print()"
   ]
  },
  {
   "cell_type": "code",
   "execution_count": 1,
   "id": "22f6ca15-1b0e-4c3e-9978-75d0aec0642f",
   "metadata": {},
   "outputs": [
    {
     "name": "stdout",
     "output_type": "stream",
     "text": [
      "     * \n",
      "    * * \n",
      "   * * * \n",
      "  * * * * \n",
      " * * * * * \n",
      "* * * * * * \n",
      "* * * * * * \n",
      " * * * * * \n",
      "  * * * * \n",
      "   * * * \n",
      "    * * \n",
      "     * \n"
     ]
    }
   ],
   "source": [
    "num = 6\n",
    "for i in range(num):\n",
    "    for j in range(num-i-1):\n",
    "        print(\"\",end = \" \")\n",
    "    for k in range (i+1):\n",
    "        print(\"*\",end = \" \")\n",
    "    print()\n",
    "for i in range(num,0,-1):\n",
    "    for j in range(num-i):\n",
    "        print(\"\",end = \" \")\n",
    "    for k in range (i):\n",
    "        print(\"*\",end = \" \")\n",
    "    print()"
   ]
  },
  {
   "cell_type": "code",
   "execution_count": 3,
   "id": "0846cddf-ff7b-43e3-93f3-f4eb0c137551",
   "metadata": {},
   "outputs": [
    {
     "name": "stdout",
     "output_type": "stream",
     "text": [
      "* * * * * * \n",
      " * * * * * \n",
      "  * * * * \n",
      "   * * * \n",
      "    * * \n",
      "     * \n"
     ]
    }
   ],
   "source": [
    "num = 6\n",
    "for i in range(num,0,-1):\n",
    "    for j in range(num-i):\n",
    "        print(\"\",end = \" \")\n",
    "    for k in range (i):\n",
    "        print(\"*\",end = \" \")\n",
    "    print()"
   ]
  },
  {
   "cell_type": "code",
   "execution_count": null,
   "id": "3c12de39-5ae5-4364-b962-0b4321e1f712",
   "metadata": {},
   "outputs": [],
   "source": []
  }
 ],
 "metadata": {
  "kernelspec": {
   "display_name": "Python 3 (ipykernel)",
   "language": "python",
   "name": "python3"
  },
  "language_info": {
   "codemirror_mode": {
    "name": "ipython",
    "version": 3
   },
   "file_extension": ".py",
   "mimetype": "text/x-python",
   "name": "python",
   "nbconvert_exporter": "python",
   "pygments_lexer": "ipython3",
   "version": "3.12.6"
  },
  "widgets": {
   "application/vnd.jupyter.widget-state+json": {
    "state": {},
    "version_major": 2,
    "version_minor": 0
   }
  }
 },
 "nbformat": 4,
 "nbformat_minor": 5
}
