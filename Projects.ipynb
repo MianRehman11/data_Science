{
 "cells": [
  {
   "cell_type": "markdown",
   "id": "20516a1a-b4a8-492b-b4a8-9cee5586888c",
   "metadata": {},
   "source": [
    "### projects"
   ]
  },
  {
   "cell_type": "code",
   "execution_count": 1,
   "id": "76adb729-1e72-422c-80fb-39cadb86548f",
   "metadata": {},
   "outputs": [
    {
     "name": "stdout",
     "output_type": "stream",
     "text": [
      "the second largest number is  55\n"
     ]
    }
   ],
   "source": [
    "# print the second largest numbr in list\n",
    "list = [12,3,4,55,34,89,34,19]\n",
    "list.sort(reverse=False)\n",
    "print(\"the second largest number is \",list[-2])"
   ]
  },
  {
   "cell_type": "code",
   "execution_count": 2,
   "id": "d82ad68d-91e1-4146-bed9-bd9792846dca",
   "metadata": {},
   "outputs": [
    {
     "name": "stdin",
     "output_type": "stream",
     "text": [
      "enter you string: arslan\n"
     ]
    },
    {
     "name": "stdout",
     "output_type": "stream",
     "text": [
      "total vowel are :2\n"
     ]
    }
   ],
   "source": [
    "string = input(\"enter you string:\")\n",
    "count = 0\n",
    "string = string.lower()\n",
    "for i in string:\n",
    "    if i == \"a\" or i == \"e\" or i == \"o\" or i == \"i\" or i == \"u\":\n",
    "        count += 1\n",
    "if count == 0:\n",
    "    print(\"no vowel found\")\n",
    "else:\n",
    "    print(f\"total vowel are :{count}\")"
   ]
  },
  {
   "cell_type": "code",
   "execution_count": 3,
   "id": "cb534a45-3ac2-41b8-bf39-1ba46f3a4825",
   "metadata": {},
   "outputs": [
    {
     "name": "stdin",
     "output_type": "stream",
     "text": [
      "enter you string: ABDULREHman\n"
     ]
    },
    {
     "name": "stdout",
     "output_type": "stream",
     "text": [
      "total vowel are :4\n"
     ]
    }
   ],
   "source": [
    "string = input(\"enter you string:\")\n",
    "count = 0\n",
    "for i in string:\n",
    "    if i == \"a\" or i == \"e\" or i == \"o\" or i == \"i\" or i == \"u\":\n",
    "        count += 1\n",
    "    elif i == \"A\" or i == \"E\" or i == \"O\" or i == \"I\" or i == \"U\":\n",
    "        count += 1\n",
    "if count == 0:\n",
    "    print(\"no vowel found\")\n",
    "else:\n",
    "    print(f\"total vowel are :{count}\")"
   ]
  },
  {
   "cell_type": "code",
   "execution_count": 41,
   "id": "1f987f4f-911a-400e-af7e-1b8c2aa3309b",
   "metadata": {},
   "outputs": [
    {
     "name": "stdout",
     "output_type": "stream",
     "text": [
      "1 for addition\n",
      "2 for subtraction\n",
      "3 for multiplication\n",
      "4 for division\n",
      "5 for modulus\n"
     ]
    },
    {
     "name": "stdin",
     "output_type": "stream",
     "text": [
      "Press the number for your choice:  1\n",
      "Enter your first value:  1\n",
      "Enter your second value:  2\n"
     ]
    },
    {
     "name": "stdout",
     "output_type": "stream",
     "text": [
      "The result is: 3.0\n"
     ]
    }
   ],
   "source": [
    "def add(x, y):\n",
    "    return x + y\n",
    "\n",
    "def sub(x, y):\n",
    "    return x - y\n",
    "\n",
    "def mul(x, y):\n",
    "    return x * y\n",
    "\n",
    "def div(x, y):\n",
    "    if y == 0:\n",
    "        return \n",
    "    return x / y\n",
    "\n",
    "def mod(x, y):\n",
    "    return x % y\n",
    "\n",
    "print(\"1 for addition\")\n",
    "print(\"2 for subtraction\")\n",
    "print(\"3 for multiplication\")\n",
    "print(\"4 for division\")\n",
    "print(\"5 for modulus\")\n",
    "\n",
    "choice = int(input(\"Press the number for your choice: \"))\n",
    "num1 = float(input(\"Enter your first value: \"))\n",
    "num2 = float(input(\"Enter your second value: \"))\n",
    "\n",
    "if choice == 1:\n",
    "    print(f\"The result is: {add(num1, num2)}\")\n",
    "elif choice == 2:\n",
    "    print(f\"The result is: {sub(num1, num2)}\")\n",
    "elif choice == 3:\n",
    "    print(f\"The result is: {mul(num1, num2)}\")\n",
    "elif choice == 4:\n",
    "    print(f\"The result is: {div(num1, num2)}\")\n",
    "elif choice == 5:\n",
    "    print(f\"The result is: {mod(num1, num2)}\")\n",
    "else:\n",
    "    print(\"Invalid choice\")\n"
   ]
  },
  {
   "cell_type": "code",
   "execution_count": 1,
   "id": "e4816c05-9de3-4dd2-b218-bf791627f21a",
   "metadata": {},
   "outputs": [
    {
     "name": "stdin",
     "output_type": "stream",
     "text": [
      "enter your start number 1\n",
      "enter your start number 10\n"
     ]
    },
    {
     "name": "stdout",
     "output_type": "stream",
     "text": [
      "3\n",
      "5\n",
      "5\n",
      "5\n",
      "7\n",
      "7\n",
      "7\n",
      "7\n",
      "7\n",
      "9\n"
     ]
    }
   ],
   "source": [
    "start = int(input(\"enter your start number\"))\n",
    "end = int(input(\"enter your start number\"))\n",
    "for i in range(start,end+1):\n",
    "    if i > 1:\n",
    "        for j in range(2,i+1):\n",
    "            if i%j == 0:\n",
    "                break\n",
    "            else:\n",
    "                print(i)\n",
    "\n"
   ]
  },
  {
   "cell_type": "code",
   "execution_count": 5,
   "id": "38946196-dce1-4f76-921c-6a0afc9ab6be",
   "metadata": {},
   "outputs": [
    {
     "name": "stdout",
     "output_type": "stream",
     "text": [
      "     * \n",
      "    * * \n",
      "   * * * \n",
      "  * * * * \n",
      " * * * * * \n",
      "* * * * * * \n",
      "* * * * * * \n",
      " * * * * * \n",
      "  * * * * \n",
      "   * * * \n",
      "    * * \n",
      "     * \n"
     ]
    }
   ],
   "source": [
    "num = 6\n",
    "for i in range(num):\n",
    "    for j in range(num-i-1):\n",
    "        print(\"\",end = \" \")\n",
    "    for k in range (i+1):\n",
    "        print(\"*\",end = \" \")\n",
    "    print()\n",
    "for i in range(num,0,-1):\n",
    "    for j in range(num-i):\n",
    "        print(\"\",end = \" \")\n",
    "    for k in range (i):\n",
    "        print(\"*\",end = \" \")\n",
    "    print()"
   ]
  },
  {
   "cell_type": "code",
   "execution_count": 2,
   "id": "ca13a895-c7c0-4074-aaa5-2fb5c89a456d",
   "metadata": {},
   "outputs": [
    {
     "name": "stdout",
     "output_type": "stream",
     "text": [
      "\n",
      "1 for addition\n",
      "2 for subtraction\n",
      "3 for multiplication\n",
      "4 for division\n",
      "\n"
     ]
    },
    {
     "name": "stdin",
     "output_type": "stream",
     "text": [
      "enter first value 1\n",
      "enter second value 2\n"
     ]
    },
    {
     "name": "stdout",
     "output_type": "stream",
     "text": [
      "3\n"
     ]
    }
   ],
   "source": [
    "print(\"\"\"\n",
    "1 for addition\n",
    "2 for subtraction\n",
    "3 for multiplication\n",
    "4 for division\n",
    "\"\"\")\n",
    "num1 = int(input(\"enter first value\"))\n",
    "num2 = int(input(\"enter second value\"))\n",
    "x = int(\"press your number\")\n",
    "if x == 1:\n",
    "    print(num1 + num2)\n",
    "    \n",
    "elif x == 2:\n",
    "    print(num1 - num2)\n",
    "elif x == 3:\n",
    "    print(num1 * num2)\n",
    "elif x == 4:\n",
    "    print(num1 / num2)\n",
    "else:\n",
    "    print(\"invalid\")\n",
    "    "
   ]
  },
  {
   "cell_type": "code",
   "execution_count": 11,
   "id": "377e6d8c-7d6f-4f9e-8570-a5794907c6ce",
   "metadata": {},
   "outputs": [
    {
     "name": "stdout",
     "output_type": "stream",
     "text": [
      "          * \n",
      "        * * * \n",
      "      * * * * * \n",
      "    * * * * * * * \n",
      "  * * * * * * * * * \n",
      "* * * * * * * * * * * \n"
     ]
    }
   ],
   "source": [
    "num = 6\n",
    "i = 1\n",
    "while (i <= num):\n",
    "    j = 1\n",
    "    while(j <= num - i):\n",
    "        print(\" \",end=\" \")\n",
    "        j+=1\n",
    "    k = 1\n",
    "    while (k <= 2*i-1):\n",
    "        print(\"*\",end=' ')\n",
    "        k+=1\n",
    "    print()\n",
    "    i += 1"
   ]
  },
  {
   "cell_type": "code",
   "execution_count": null,
   "id": "8d2fec12-9b27-47a7-8852-ae4bbb1f19e3",
   "metadata": {},
   "outputs": [],
   "source": []
  }
 ],
 "metadata": {
  "kernelspec": {
   "display_name": "Python 3 (ipykernel)",
   "language": "python",
   "name": "python3"
  },
  "language_info": {
   "codemirror_mode": {
    "name": "ipython",
    "version": 3
   },
   "file_extension": ".py",
   "mimetype": "text/x-python",
   "name": "python",
   "nbconvert_exporter": "python",
   "pygments_lexer": "ipython3",
   "version": "3.12.6"
  },
  "widgets": {
   "application/vnd.jupyter.widget-state+json": {
    "state": {},
    "version_major": 2,
    "version_minor": 0
   }
  }
 },
 "nbformat": 4,
 "nbformat_minor": 5
}
